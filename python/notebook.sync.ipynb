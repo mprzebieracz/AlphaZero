{
 "cells": [
  {
   "cell_type": "code",
   "execution_count": null,
   "id": "f6ebaeb3",
   "metadata": {},
   "outputs": [],
   "source": [
    "%autosave 0"
   ]
  },
  {
   "cell_type": "code",
   "execution_count": null,
   "id": "339aa87d",
   "metadata": {},
   "outputs": [],
   "source": [
    "%load_ext autoreload\n",
    "%autoreload 2"
   ]
  },
  {
   "cell_type": "code",
   "execution_count": 1,
   "id": "db2c0013",
   "metadata": {},
   "outputs": [],
   "source": [
    "\n",
    "from sympy import im\n",
    "import torch\n",
    "from injectors import (\n",
    "    get_inferer_factory,\n",
    "    get_mcts_factory,\n",
    "    get_network,\n",
    "    get_replay_buffer,\n",
    "    get_trainer,\n",
    ")\n",
    "from typing import Optional\n",
    "from games.connect4 import Connect4\n",
    "from games.game import Game\n",
    "from network import AlphaZeroNetwork\n",
    "from train import self_play_and_train_loop\n",
    "import playing"
   ]
  },
  {
   "cell_type": "code",
   "execution_count": 1,
   "id": "8d3537d8",
   "metadata": {},
   "outputs": [
    {
     "ename": "ImportError",
     "evalue": "/home/piotrek/miniconda3/envs/mpum-big-project/lib/python3.12/site-packages/zmq/backend/cython/../../../../.././libstdc++.so.6: version `GLIBCXX_3.4.30' not found (required by /home/piotrek/Studia/2-rok/4-sem/MPUM/Project/AlphaZero/python/self_play_bind.cpython-313-x86_64-linux-gnu.so)",
     "output_type": "error",
     "traceback": [
      "\u001b[31m---------------------------------------------------------------------------\u001b[39m",
      "\u001b[31mImportError\u001b[39m                               Traceback (most recent call last)",
      "\u001b[36mCell\u001b[39m\u001b[36m \u001b[39m\u001b[32mIn[1]\u001b[39m\u001b[32m, line 13\u001b[39m\n\u001b[32m      8\u001b[39m \u001b[38;5;28;01mimport\u001b[39;00m\u001b[38;5;250m \u001b[39m\u001b[34;01msys\u001b[39;00m\n\u001b[32m     10\u001b[39m spec = importlib.util.spec_from_file_location(\n\u001b[32m     11\u001b[39m     \u001b[33m\"\u001b[39m\u001b[33mself_play_bind\u001b[39m\u001b[33m\"\u001b[39m, \u001b[33m\"\u001b[39m\u001b[33m./self_play_bind.cpython-313-x86_64-linux-gnu.so\u001b[39m\u001b[33m\"\u001b[39m\n\u001b[32m     12\u001b[39m )\n\u001b[32m---> \u001b[39m\u001b[32m13\u001b[39m module = \u001b[43mimportlib\u001b[49m\u001b[43m.\u001b[49m\u001b[43mutil\u001b[49m\u001b[43m.\u001b[49m\u001b[43mmodule_from_spec\u001b[49m\u001b[43m(\u001b[49m\u001b[43mspec\u001b[49m\u001b[43m)\u001b[49m\n\u001b[32m     14\u001b[39m sys.modules[\u001b[33m\"\u001b[39m\u001b[33mself_play_bind\u001b[39m\u001b[33m\"\u001b[39m] = module\n\u001b[32m     15\u001b[39m spec.loader.exec_module(module)\n",
      "\u001b[36mFile \u001b[39m\u001b[32m<frozen importlib._bootstrap>:813\u001b[39m, in \u001b[36mmodule_from_spec\u001b[39m\u001b[34m(spec)\u001b[39m\n",
      "\u001b[36mFile \u001b[39m\u001b[32m<frozen importlib._bootstrap_external>:1293\u001b[39m, in \u001b[36mcreate_module\u001b[39m\u001b[34m(self, spec)\u001b[39m\n",
      "\u001b[36mFile \u001b[39m\u001b[32m<frozen importlib._bootstrap>:488\u001b[39m, in \u001b[36m_call_with_frames_removed\u001b[39m\u001b[34m(f, *args, **kwds)\u001b[39m\n",
      "\u001b[31mImportError\u001b[39m: /home/piotrek/miniconda3/envs/mpum-big-project/lib/python3.12/site-packages/zmq/backend/cython/../../../../.././libstdc++.so.6: version `GLIBCXX_3.4.30' not found (required by /home/piotrek/Studia/2-rok/4-sem/MPUM/Project/AlphaZero/python/self_play_bind.cpython-313-x86_64-linux-gnu.so)"
     ]
    }
   ],
   "source": [
    "import sys\n",
    "\n",
    "sys.path.append(\"../build/training/\")\n",
    "sys.path.append(\".\")\n",
    "\n",
    "\n",
    "import importlib.util\n",
    "import sys\n",
    "\n",
    "spec = importlib.util.spec_from_file_location(\n",
    "    \"self_play_bind\", \"./self_play_bind.cpython-313-x86_64-linux-gnu.so\"\n",
    ")\n",
    "module = importlib.util.module_from_spec(spec)\n",
    "sys.modules[\"self_play_bind\"] = module\n",
    "spec.loader.exec_module(module)\n",
    "\n",
    "import self_play_bind"
   ]
  },
  {
   "cell_type": "code",
   "execution_count": null,
   "id": "27f9e992",
   "metadata": {},
   "outputs": [],
   "source": [
    "import cProfile\n",
    "import pstats\n",
    "\n",
    "profiling = True"
   ]
  },
  {
   "cell_type": "code",
   "execution_count": 2,
   "id": "a06f427f",
   "metadata": {},
   "outputs": [],
   "source": [
    "# device = \"cpu\"\n",
    "device = torch.device(\"cuda\")\n",
    "\n",
    "network = get_network(Connect4)\n",
    "network.save_az_network(\"AZNetwork\")\n",
    "inferer_factory = get_inferer_factory(AlphaZeroNetwork, \"AZNetwork\", device)\n",
    "replay_buffer = get_replay_buffer(Connect4)\n",
    "\n",
    "\n",
    "game = Connect4()"
   ]
  },
  {
   "cell_type": "markdown",
   "id": "caa8712e",
   "metadata": {
    "lines_to_next_cell": 0
   },
   "source": [
    "## Profiling"
   ]
  },
  {
   "cell_type": "markdown",
   "id": "82f60c29",
   "metadata": {
    "lines_to_next_cell": 0
   },
   "source": [
    "### Self play profiling"
   ]
  },
  {
   "cell_type": "code",
   "execution_count": null,
   "id": "9135ab80",
   "metadata": {
    "lines_to_next_cell": 2
   },
   "outputs": [],
   "source": [
    "%%time\n",
    "pr: Optional[cProfile.Profile] = None\n",
    "if profiling:\n",
    "    with cProfile.Profile() as pr:\n",
    "        self_play(\n",
    "            Connect4, inferer_factory, replay_buffer, get_mcts_factory, num_games=1\n",
    "        )"
   ]
  },
  {
   "cell_type": "code",
   "execution_count": null,
   "id": "cb5feb6e",
   "metadata": {
    "scrolled": true
   },
   "outputs": [],
   "source": [
    "if pr is not None:\n",
    "    stats = pstats.Stats(pr)\n",
    "    stats.sort_stats(\"cumtime\").print_stats(30)\n",
    "    pr.dump_stats(\"self_play.prof\")"
   ]
  },
  {
   "cell_type": "markdown",
   "id": "cc5831aa",
   "metadata": {
    "lines_to_next_cell": 0
   },
   "source": [
    "### Trainer profiling"
   ]
  },
  {
   "cell_type": "code",
   "execution_count": null,
   "id": "090ca86a",
   "metadata": {},
   "outputs": [],
   "source": [
    "%%time\n",
    "replay_buffer.load(\"10games_played.npz\")\n",
    "\n",
    "network = AlphaZeroNetwork.load_az_network(\"AZNetwork\", device)\n",
    "print(next(network.parameters()).device)\n",
    "if profiling:\n",
    "    with cProfile.Profile() as pr:\n",
    "        trainer = get_trainer(\n",
    "            network,\n",
    "            device,\n",
    "            replay_buffer,\n",
    "        )\n",
    "\n",
    "        network.train()\n",
    "        trainer.train(batch_size=1)"
   ]
  },
  {
   "cell_type": "code",
   "execution_count": null,
   "id": "85f51e6e",
   "metadata": {},
   "outputs": [],
   "source": [
    "if pr is not None:\n",
    "    stats = pstats.Stats(pr)\n",
    "    stats.sort_stats(\"cumtime\").print_stats(30)\n",
    "    pr.dump_stats(\"train.prof\")"
   ]
  },
  {
   "cell_type": "code",
   "execution_count": null,
   "id": "8958d643",
   "metadata": {},
   "outputs": [],
   "source": [
    "replay_buffer.save(\"10games_played\")"
   ]
  },
  {
   "cell_type": "markdown",
   "id": "a6c8bdd7",
   "metadata": {
    "lines_to_next_cell": 0
   },
   "source": [
    "## Self play and training loop"
   ]
  },
  {
   "cell_type": "code",
   "execution_count": null,
   "id": "09cf7fc7",
   "metadata": {},
   "outputs": [],
   "source": [
    "# TODO: write this\n",
    "self_play_and_train_loop(\n",
    "    AlphaZeroNetwork,\n",
    "    \"AZNetwork\",\n",
    "    network_device=device,\n",
    "    game=Connect4,\n",
    "    load_replay_buffer=get_replay_buffer,\n",
    "    trainer_factory=get_trainer,\n",
    "    inferer_provider_getter=get_inferer_factory,\n",
    "    mcts_factory_getter=get_mcts_factory,\n",
    "    loop_iterations=1,\n",
    "    games_in_each_iteration=1,\n",
    "    batch_size=1,\n",
    ")"
   ]
  },
  {
   "cell_type": "markdown",
   "id": "d93d104d",
   "metadata": {
    "lines_to_next_cell": 0
   },
   "source": [
    "## Playing the Game"
   ]
  },
  {
   "cell_type": "code",
   "execution_count": 3,
   "id": "0b25e740",
   "metadata": {
    "lines_to_next_cell": 0
   },
   "outputs": [
    {
     "name": "stdout",
     "output_type": "stream",
     "text": [
      "\n"
     ]
    }
   ],
   "source": [
    "network.eval()\n",
    "\n",
    "mcts_fac = get_mcts_factory(inferer_factory)\n",
    "mcts = mcts_fac.get_mcts()\n",
    "\n",
    "\n",
    "def mcts_policy(game: Game):\n",
    "    return mcts.search(game)\n",
    "\n",
    "\n",
    "print()"
   ]
  },
  {
   "cell_type": "code",
   "execution_count": 4,
   "id": "5f955c1a",
   "metadata": {
    "scrolled": false
   },
   "outputs": [
    {
     "name": "stdout",
     "output_type": "stream",
     "text": [
      "⚪ ⚪ ⚪ ⚪ ⚪ ⚪ ⚪\n",
      "⚪ ⚪ ⚪ ⚪ ⚪ ⚪ ⚪\n",
      "⚪ ⚪ ⚪ ⚪ ⚪ ⚪ ⚪\n",
      "⚪ ⚪ ⚪ ⚪ ⚪ ⚪ ⚪\n",
      "⚪ ⚪ ⚪ ⚪ ⚪ ⚪ ⚪\n",
      "⚪ ⚪ ⚪ ⚪ ⚪ ⚪ ⚪\n",
      "―――――――――――――\n",
      "0 1 2 3 4 5 6\n",
      "Legal actions: [0, 1, 2, 3, 4, 5, 6]\n",
      "⚪ ⚪ ⚪ ⚪ ⚪ ⚪ ⚪\n",
      "⚪ ⚪ ⚪ ⚪ ⚪ ⚪ ⚪\n",
      "⚪ ⚪ ⚪ ⚪ ⚪ ⚪ ⚪\n",
      "⚪ ⚪ ⚪ ⚪ ⚪ ⚪ ⚪\n",
      "⚪ ⚪ ⚪ ⚪ ⚪ ⚪ ⚪\n",
      "⚪ ⚪ ⚪ ⚪ 🔴 🟡 ⚪\n",
      "―――――――――――――\n",
      "0 1 2 3 4 5 6\n",
      "Legal actions: [0, 1, 2, 3, 4, 5, 6]\n",
      "Invalid action, try again.\n",
      "⚪ ⚪ ⚪ ⚪ ⚪ ⚪ ⚪\n",
      "⚪ ⚪ ⚪ ⚪ ⚪ ⚪ ⚪\n",
      "⚪ ⚪ ⚪ ⚪ ⚪ ⚪ ⚪\n",
      "⚪ ⚪ ⚪ ⚪ ⚪ ⚪ ⚪\n",
      "⚪ ⚪ ⚪ ⚪ ⚪ ⚪ ⚪\n",
      "⚪ 🟡 ⚪ 🔴 🔴 🟡 ⚪\n",
      "―――――――――――――\n",
      "0 1 2 3 4 5 6\n",
      "Legal actions: [0, 1, 2, 3, 4, 5, 6]\n",
      "Invalid action, try again.\n",
      "⚪ ⚪ ⚪ ⚪ ⚪ ⚪ ⚪\n",
      "⚪ ⚪ ⚪ ⚪ ⚪ ⚪ ⚪\n",
      "⚪ ⚪ ⚪ ⚪ ⚪ ⚪ ⚪\n",
      "⚪ ⚪ ⚪ ⚪ ⚪ ⚪ ⚪\n",
      "⚪ ⚪ ⚪ ⚪ ⚪ 🟡 ⚪\n",
      "⚪ 🟡 🔴 🔴 🔴 🟡 ⚪\n",
      "―――――――――――――\n",
      "0 1 2 3 4 5 6\n",
      "Legal actions: [0, 1, 2, 3, 4, 5, 6]\n",
      "⚪ ⚪ ⚪ ⚪ ⚪ ⚪ ⚪\n",
      "⚪ ⚪ ⚪ ⚪ ⚪ ⚪ ⚪\n",
      "⚪ ⚪ ⚪ ⚪ ⚪ ⚪ ⚪\n",
      "⚪ ⚪ ⚪ ⚪ ⚪ ⚪ ⚪\n",
      "⚪ ⚪ ⚪ 🟡 🔴 🟡 ⚪\n",
      "⚪ 🟡 🔴 🔴 🔴 🟡 ⚪\n",
      "―――――――――――――\n",
      "0 1 2 3 4 5 6\n",
      "Legal actions: [0, 1, 2, 3, 4, 5, 6]\n",
      "⚪ ⚪ ⚪ ⚪ ⚪ ⚪ ⚪\n",
      "⚪ ⚪ ⚪ ⚪ ⚪ ⚪ ⚪\n",
      "⚪ ⚪ ⚪ ⚪ ⚪ ⚪ ⚪\n",
      "⚪ ⚪ ⚪ 🟡 ⚪ ⚪ ⚪\n",
      "⚪ ⚪ 🔴 🟡 🔴 🟡 ⚪\n",
      "⚪ 🟡 🔴 🔴 🔴 🟡 ⚪\n",
      "―――――――――――――\n",
      "0 1 2 3 4 5 6\n",
      "Legal actions: [0, 1, 2, 3, 4, 5, 6]\n",
      "Invalid action, try again.\n",
      "⚪ ⚪ ⚪ ⚪ ⚪ ⚪ ⚪\n",
      "⚪ ⚪ ⚪ ⚪ ⚪ ⚪ ⚪\n",
      "⚪ ⚪ 🟡 ⚪ ⚪ ⚪ ⚪\n",
      "⚪ ⚪ 🔴 🟡 ⚪ ⚪ ⚪\n",
      "⚪ ⚪ 🔴 🟡 🔴 🟡 ⚪\n",
      "⚪ 🟡 🔴 🔴 🔴 🟡 ⚪\n",
      "―――――――――――――\n",
      "0 1 2 3 4 5 6\n",
      "Legal actions: [0, 1, 2, 3, 4, 5, 6]\n",
      "Invalid action, try again.\n",
      "⚪ ⚪ ⚪ ⚪ ⚪ ⚪ ⚪\n",
      "⚪ ⚪ ⚪ ⚪ ⚪ ⚪ ⚪\n",
      "⚪ ⚪ 🟡 ⚪ 🟡 ⚪ ⚪\n",
      "⚪ ⚪ 🔴 🟡 🔴 ⚪ ⚪\n",
      "⚪ ⚪ 🔴 🟡 🔴 🟡 ⚪\n",
      "⚪ 🟡 🔴 🔴 🔴 🟡 ⚪\n",
      "―――――――――――――\n",
      "0 1 2 3 4 5 6\n",
      "Legal actions: [0, 1, 2, 3, 4, 5, 6]\n",
      "Invalid action, try again.\n",
      "⚪ ⚪ ⚪ ⚪ ⚪ ⚪ ⚪\n",
      "⚪ ⚪ 🟡 ⚪ ⚪ ⚪ ⚪\n",
      "⚪ ⚪ 🟡 ⚪ 🟡 ⚪ ⚪\n",
      "⚪ ⚪ 🔴 🟡 🔴 🔴 ⚪\n",
      "⚪ ⚪ 🔴 🟡 🔴 🟡 ⚪\n",
      "⚪ 🟡 🔴 🔴 🔴 🟡 ⚪\n",
      "―――――――――――――\n",
      "0 1 2 3 4 5 6\n",
      "Legal actions: [0, 1, 2, 3, 4, 5, 6]\n",
      "⚪ ⚪ ⚪ ⚪ ⚪ ⚪ ⚪\n",
      "⚪ ⚪ 🟡 ⚪ 🟡 ⚪ ⚪\n",
      "⚪ ⚪ 🟡 ⚪ 🟡 ⚪ ⚪\n",
      "⚪ ⚪ 🔴 🟡 🔴 🔴 ⚪\n",
      "⚪ ⚪ 🔴 🟡 🔴 🟡 ⚪\n",
      "⚪ 🟡 🔴 🔴 🔴 🟡 🔴\n",
      "―――――――――――――\n",
      "0 1 2 3 4 5 6\n",
      "Legal actions: [0, 1, 2, 3, 4, 5, 6]\n",
      "Invalid action, try again.\n",
      "⚪ ⚪ ⚪ ⚪ 🟡 ⚪ ⚪\n",
      "⚪ ⚪ 🟡 ⚪ 🟡 ⚪ ⚪\n",
      "⚪ ⚪ 🟡 ⚪ 🟡 ⚪ ⚪\n",
      "⚪ ⚪ 🔴 🟡 🔴 🔴 ⚪\n",
      "⚪ ⚪ 🔴 🟡 🔴 🟡 🔴\n",
      "⚪ 🟡 🔴 🔴 🔴 🟡 🔴\n",
      "―――――――――――――\n",
      "0 1 2 3 4 5 6\n",
      "Legal actions: [0, 1, 2, 3, 5, 6]\n",
      "Invalid action, try again.\n",
      "⚪ ⚪ ⚪ ⚪ 🟡 ⚪ ⚪\n",
      "⚪ ⚪ 🟡 ⚪ 🟡 ⚪ ⚪\n",
      "⚪ ⚪ 🟡 ⚪ 🟡 ⚪ 🟡\n",
      "⚪ ⚪ 🔴 🟡 🔴 🔴 🔴\n",
      "⚪ ⚪ 🔴 🟡 🔴 🟡 🔴\n",
      "⚪ 🟡 🔴 🔴 🔴 🟡 🔴\n",
      "―――――――――――――\n",
      "0 1 2 3 4 5 6\n",
      "Legal actions: [0, 1, 2, 3, 5, 6]\n",
      "Invalid action, try again.\n",
      "⚪ ⚪ ⚪ ⚪ 🟡 ⚪ ⚪\n",
      "⚪ ⚪ 🟡 ⚪ 🟡 🟡 ⚪\n",
      "⚪ ⚪ 🟡 ⚪ 🟡 🔴 🟡\n",
      "⚪ ⚪ 🔴 🟡 🔴 🔴 🔴\n",
      "⚪ ⚪ 🔴 🟡 🔴 🟡 🔴\n",
      "⚪ 🟡 🔴 🔴 🔴 🟡 🔴\n",
      "―――――――――――――\n",
      "0 1 2 3 4 5 6\n",
      "Legal actions: [0, 1, 2, 3, 5, 6]\n",
      "⚪ ⚪ ⚪ ⚪ 🟡 🟡 ⚪\n",
      "⚪ ⚪ 🟡 ⚪ 🟡 🟡 ⚪\n",
      "⚪ ⚪ 🟡 🔴 🟡 🔴 🟡\n",
      "⚪ ⚪ 🔴 🟡 🔴 🔴 🔴\n",
      "⚪ ⚪ 🔴 🟡 🔴 🟡 🔴\n",
      "⚪ 🟡 🔴 🔴 🔴 🟡 🔴\n",
      "―――――――――――――\n",
      "0 1 2 3 4 5 6\n",
      "Legal actions: [0, 1, 2, 3, 6]\n",
      "⚪ ⚪ ⚪ ⚪ 🟡 🟡 ⚪\n",
      "⚪ ⚪ 🟡 ⚪ 🟡 🟡 ⚪\n",
      "⚪ ⚪ 🟡 🔴 🟡 🔴 🟡\n",
      "⚪ ⚪ 🔴 🟡 🔴 🔴 🔴\n",
      "⚪ 🔴 🔴 🟡 🔴 🟡 🔴\n",
      "🟡 🟡 🔴 🔴 🔴 🟡 🔴\n",
      "―――――――――――――\n",
      "0 1 2 3 4 5 6\n",
      "Legal actions: [0, 1, 2, 3, 6]\n",
      "⚪ ⚪ ⚪ ⚪ 🟡 🟡 ⚪\n",
      "⚪ ⚪ 🟡 ⚪ 🟡 🟡 ⚪\n",
      "⚪ ⚪ 🟡 🔴 🟡 🔴 🟡\n",
      "⚪ 🔴 🔴 🟡 🔴 🔴 🔴\n",
      "🟡 🔴 🔴 🟡 🔴 🟡 🔴\n",
      "🟡 🟡 🔴 🔴 🔴 🟡 🔴\n",
      "―――――――――――――\n",
      "0 1 2 3 4 5 6\n",
      "Legal actions: [0, 1, 2, 3, 6]\n",
      "Invalid action, try again.\n",
      "⚪ ⚪ ⚪ ⚪ 🟡 🟡 ⚪\n",
      "⚪ ⚪ 🟡 ⚪ 🟡 🟡 ⚪\n",
      "🟡 ⚪ 🟡 🔴 🟡 🔴 🟡\n",
      "🔴 🔴 🔴 🟡 🔴 🔴 🔴\n",
      "🟡 🔴 🔴 🟡 🔴 🟡 🔴\n",
      "🟡 🟡 🔴 🔴 🔴 🟡 🔴\n",
      "―――――――――――――\n",
      "0 1 2 3 4 5 6\n",
      "Legal actions: [0, 1, 2, 3, 6]\n",
      "Invalid action, try again.\n",
      "⚪ ⚪ 🔴 ⚪ 🟡 🟡 ⚪\n",
      "⚪ ⚪ 🟡 ⚪ 🟡 🟡 ⚪\n",
      "🟡 🟡 🟡 🔴 🟡 🔴 🟡\n",
      "🔴 🔴 🔴 🟡 🔴 🔴 🔴\n",
      "🟡 🔴 🔴 🟡 🔴 🟡 🔴\n",
      "🟡 🟡 🔴 🔴 🔴 🟡 🔴\n",
      "―――――――――――――\n",
      "0 1 2 3 4 5 6\n",
      "Legal actions: [0, 1, 3, 6]\n",
      "Invalid action, try again.\n",
      "⚪ ⚪ 🔴 ⚪ 🟡 🟡 ⚪\n",
      "🟡 🔴 🟡 ⚪ 🟡 🟡 ⚪\n",
      "🟡 🟡 🟡 🔴 🟡 🔴 🟡\n",
      "🔴 🔴 🔴 🟡 🔴 🔴 🔴\n",
      "🟡 🔴 🔴 🟡 🔴 🟡 🔴\n",
      "🟡 🟡 🔴 🔴 🔴 🟡 🔴\n",
      "―――――――――――――\n",
      "0 1 2 3 4 5 6\n",
      "Legal actions: [0, 1, 3, 6]\n",
      "Invalid action, try again.\n",
      "🔴 🟡 🔴 ⚪ 🟡 🟡 ⚪\n",
      "🟡 🔴 🟡 ⚪ 🟡 🟡 ⚪\n",
      "🟡 🟡 🟡 🔴 🟡 🔴 🟡\n",
      "🔴 🔴 🔴 🟡 🔴 🔴 🔴\n",
      "🟡 🔴 🔴 🟡 🔴 🟡 🔴\n",
      "🟡 🟡 🔴 🔴 🔴 🟡 🔴\n",
      "―――――――――――――\n",
      "0 1 2 3 4 5 6\n",
      "Legal actions: [3, 6]\n",
      "🔴 🟡 🔴 ⚪ 🟡 🟡 ⚪\n",
      "🟡 🔴 🟡 🟡 🟡 🟡 🔴\n",
      "🟡 🟡 🟡 🔴 🟡 🔴 🟡\n",
      "🔴 🔴 🔴 🟡 🔴 🔴 🔴\n",
      "🟡 🔴 🔴 🟡 🔴 🟡 🔴\n",
      "🟡 🟡 🔴 🔴 🔴 🟡 🔴\n",
      "―――――――――――――\n",
      "0 1 2 3 4 5 6\n",
      "Game result: AI won\n"
     ]
    }
   ],
   "source": [
    "final_reward = playing.play_game(game, mcts_policy_fn=mcts_policy)\n",
    "print(f\"Game result: {'You won' if final_reward == 1 else 'AI won'}\")"
   ]
  },
  {
   "cell_type": "code",
   "execution_count": null,
   "id": "6bb3f213",
   "metadata": {},
   "outputs": [],
   "source": [
    "final_reward = playing.play_game(game, mcts_policy_fn=mcts_policy)\n",
    "print(f\"Game result: {'You won' if final_reward == 1 else 'AI won'}\")"
   ]
  },
  {
   "cell_type": "code",
   "execution_count": null,
   "id": "4486734e",
   "metadata": {},
   "outputs": [],
   "source": []
  }
 ],
 "metadata": {
  "jupytext": {
   "cell_metadata_filter": "-all",
   "formats": "ipynb,py:percent"
  },
  "kernelspec": {
   "display_name": "Python 3 (ipykernel)",
   "language": "python",
   "name": "python3"
  },
  "language_info": {
   "codemirror_mode": {
    "name": "ipython",
    "version": 3
   },
   "file_extension": ".py",
   "mimetype": "text/x-python",
   "name": "python",
   "nbconvert_exporter": "python",
   "pygments_lexer": "ipython3",
   "version": "3.12.9"
  }
 },
 "nbformat": 4,
 "nbformat_minor": 5
}
