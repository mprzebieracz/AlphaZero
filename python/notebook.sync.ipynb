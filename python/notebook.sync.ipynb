{
 "cells": [
  {
   "cell_type": "code",
   "execution_count": null,
   "id": "f6ebaeb3",
   "metadata": {},
   "outputs": [],
   "source": [
    "%autosave 0"
   ]
  },
  {
   "cell_type": "code",
   "execution_count": null,
   "id": "339aa87d",
   "metadata": {},
   "outputs": [],
   "source": [
    "%load_ext autoreload\n",
    "%autoreload 2"
   ]
  },
  {
   "cell_type": "code",
   "execution_count": null,
   "id": "db2c0013",
   "metadata": {},
   "outputs": [],
   "source": [
    "\n",
    "import torch\n",
    "from injectors import (\n",
    "    get_network,\n",
    "    get_trainer,\n",
    ")\n",
    "from typing import Optional\n",
    "\n",
    "# from games.connect4 import Connect4\n",
    "# from games.game import Game\n",
    "from network import AlphaZeroNetwork\n",
    "from train import self_play_and_train_loop\n",
    "import playing"
   ]
  },
  {
   "cell_type": "code",
   "execution_count": null,
   "id": "8d3537d8",
   "metadata": {},
   "outputs": [],
   "source": [
    "import sys\n",
    "\n",
    "sys.path.append(\"../build/training/\")\n",
    "sys.path.append(\"../build/engine/\")\n",
    "\n",
    "from engine_bind import Connect4, ReplayBuffer  # pyright: ignore\n",
    "from self_play_bind import self_play  # pyright: ignore"
   ]
  },
  {
   "cell_type": "code",
   "execution_count": null,
   "id": "27f9e992",
   "metadata": {},
   "outputs": [],
   "source": [
    "import cProfile\n",
    "import pstats\n",
    "\n",
    "profiling = True"
   ]
  },
  {
   "cell_type": "code",
   "execution_count": null,
   "id": "a06f427f",
   "metadata": {},
   "outputs": [],
   "source": [
    "# device = \"cpu\"\n",
    "device = torch.device(\"cuda\")\n",
    "\n",
    "network = get_network(Connect4)\n",
    "\n",
    "network_path = \"AZNetwork.pt\"\n",
    "network.save_az_network(network_path)"
   ]
  },
  {
   "cell_type": "markdown",
   "id": "caa8712e",
   "metadata": {
    "lines_to_next_cell": 0
   },
   "source": [
    "## Profiling"
   ]
  },
  {
   "cell_type": "markdown",
   "id": "82f60c29",
   "metadata": {
    "lines_to_next_cell": 0
   },
   "source": [
    "### Self play profiling"
   ]
  },
  {
   "cell_type": "code",
   "execution_count": null,
   "id": "9135ab80",
   "metadata": {},
   "outputs": [],
   "source": [
    "%%time\n",
    "\n",
    "games_in_each_iteration = 12\n",
    "self_play(\n",
    "    Connect4(),\n",
    "    network_path,\n",
    "    ReplayBuffer(1000),\n",
    "    games_in_each_iteration,\n",
    "    12,\n",
    ")"
   ]
  },
  {
   "cell_type": "markdown",
   "id": "cc5831aa",
   "metadata": {
    "lines_to_next_cell": 0
   },
   "source": [
    "### Trainer profiling"
   ]
  },
  {
   "cell_type": "code",
   "execution_count": null,
   "id": "090ca86a",
   "metadata": {
    "lines_to_next_cell": 2
   },
   "outputs": [],
   "source": [
    "%%time"
   ]
  },
  {
   "cell_type": "markdown",
   "id": "a6c8bdd7",
   "metadata": {
    "lines_to_next_cell": 0
   },
   "source": [
    "## Self play and training loop"
   ]
  },
  {
   "cell_type": "code",
   "execution_count": null,
   "id": "09cf7fc7",
   "metadata": {},
   "outputs": [],
   "source": [
    "%%time\n",
    "# TODO: write this\n",
    "self_play_and_train_loop(\n",
    "    AlphaZeroNetwork,\n",
    "    network_path,\n",
    "    network_device=device,\n",
    "    game_type=Connect4,\n",
    "    trainer_factory=get_trainer,\n",
    "    loop_iterations=1,\n",
    "    games_in_each_iteration=1,\n",
    "    batch_size=1,\n",
    ")"
   ]
  },
  {
   "cell_type": "markdown",
   "id": "d93d104d",
   "metadata": {
    "lines_to_next_cell": 0
   },
   "source": [
    "## Playing the Game"
   ]
  },
  {
   "cell_type": "code",
   "execution_count": null,
   "id": "0b25e740",
   "metadata": {
    "lines_to_next_cell": 0
   },
   "outputs": [],
   "source": [
    "# network.eval()\n",
    "\n",
    "# mcts_fac = get_mcts_factory(inferer_factory)\n",
    "# mcts = mcts_fac.get_mcts()\n",
    "#\n",
    "#\n",
    "# def mcts_policy(game: Game):\n",
    "#     return mcts.search(game)\n",
    "#\n",
    "#\n",
    "# print()\n",
    "# # %%\n",
    "# final_reward = playing.play_game(game, mcts_policy_fn=mcts_policy)\n",
    "# print(f\"Game result: {'You won' if final_reward == 1 else 'AI won'}\")\n",
    "#\n",
    "# # %%\n",
    "# final_reward = playing.play_game(game, mcts_policy_fn=mcts_policy)\n",
    "# print(f\"Game result: {'You won' if final_reward == 1 else 'AI won'}\")\n",
    "#"
   ]
  },
  {
   "cell_type": "code",
   "execution_count": null,
   "id": "4486734e",
   "metadata": {},
   "outputs": [],
   "source": []
  }
 ],
 "metadata": {
  "jupytext": {
   "cell_metadata_filter": "-all",
   "formats": "ipynb,py:percent"
  },
  "kernelspec": {
   "display_name": "Python 3 (ipykernel)",
   "language": "python",
   "name": "python3"
  },
  "language_info": {
   "codemirror_mode": {
    "name": "ipython",
    "version": 3
   },
   "file_extension": ".py",
   "mimetype": "text/x-python",
   "name": "python",
   "nbconvert_exporter": "python",
   "pygments_lexer": "ipython3",
   "version": "3.12.9"
  }
 },
 "nbformat": 4,
 "nbformat_minor": 5
}
