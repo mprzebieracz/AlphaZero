{
 "cells": [
  {
   "cell_type": "code",
   "execution_count": null,
   "id": "f6ebaeb3",
   "metadata": {},
   "outputs": [],
   "source": [
    "%autosave 0"
   ]
  },
  {
   "cell_type": "code",
   "execution_count": null,
   "id": "339aa87d",
   "metadata": {},
   "outputs": [],
   "source": [
    "%load_ext autoreload\n",
    "%autoreload 2"
   ]
  },
  {
   "cell_type": "code",
   "execution_count": 1,
   "id": "db2c0013",
   "metadata": {},
   "outputs": [],
   "source": [
    "import torch\n",
    "from injectors import (\n",
    "    get_inferer_factory,\n",
    "    get_mcts_factory,\n",
    "    get_network,\n",
    "    get_replay_buffer,\n",
    "    get_trainer,\n",
    ")\n",
    "from typing import Optional\n",
    "from games.connect4 import Connect4\n",
    "from games.game import Game\n",
    "from network import AlphaZeroNetwork\n",
    "from train import self_play, self_play_and_train_loop\n",
    "import playing"
   ]
  },
  {
   "cell_type": "code",
   "execution_count": null,
   "id": "27f9e992",
   "metadata": {},
   "outputs": [],
   "source": [
    "import cProfile\n",
    "import pstats\n",
    "\n",
    "profiling = True"
   ]
  },
  {
   "cell_type": "code",
   "execution_count": 2,
   "id": "a06f427f",
   "metadata": {},
   "outputs": [],
   "source": [
    "# device = \"cpu\"\n",
    "device = torch.device(\"cuda\")\n",
    "\n",
    "network = get_network(Connect4)\n",
    "network.save_az_network(\"AZNetwork\")\n",
    "inferer_factory = get_inferer_factory(AlphaZeroNetwork, \"AZNetwork\", device)\n",
    "replay_buffer = get_replay_buffer(Connect4)\n",
    "\n",
    "\n",
    "game = Connect4()"
   ]
  },
  {
   "cell_type": "markdown",
   "id": "caa8712e",
   "metadata": {
    "lines_to_next_cell": 0
   },
   "source": [
    "## Profiling"
   ]
  },
  {
   "cell_type": "markdown",
   "id": "82f60c29",
   "metadata": {
    "lines_to_next_cell": 0
   },
   "source": [
    "### Self play profiling"
   ]
  },
  {
   "cell_type": "code",
   "execution_count": null,
   "id": "9135ab80",
   "metadata": {
    "lines_to_next_cell": 2
   },
   "outputs": [],
   "source": [
    "%%time\n",
    "pr: Optional[cProfile.Profile] = None\n",
    "if profiling:\n",
    "    with cProfile.Profile() as pr:\n",
    "        self_play(\n",
    "            Connect4, inferer_factory, replay_buffer, get_mcts_factory, num_games=1\n",
    "        )"
   ]
  },
  {
   "cell_type": "code",
   "execution_count": null,
   "id": "cb5feb6e",
   "metadata": {
    "scrolled": true
   },
   "outputs": [],
   "source": [
    "if pr is not None:\n",
    "    stats = pstats.Stats(pr)\n",
    "    stats.sort_stats(\"cumtime\").print_stats(30)\n",
    "    pr.dump_stats(\"self_play.prof\")"
   ]
  },
  {
   "cell_type": "markdown",
   "id": "cc5831aa",
   "metadata": {
    "lines_to_next_cell": 0
   },
   "source": [
    "### Trainer profiling"
   ]
  },
  {
   "cell_type": "code",
   "execution_count": null,
   "id": "090ca86a",
   "metadata": {},
   "outputs": [],
   "source": [
    "%%time\n",
    "replay_buffer.load(\"10games_played.npz\")\n",
    "\n",
    "network = AlphaZeroNetwork.load_az_network(\"AZNetwork\", device)\n",
    "print(next(network.parameters()).device)\n",
    "if profiling:\n",
    "    with cProfile.Profile() as pr:\n",
    "        trainer = get_trainer(\n",
    "            network,\n",
    "            device,\n",
    "            replay_buffer,\n",
    "        )\n",
    "\n",
    "        network.train()\n",
    "        trainer.train(batch_size=1)"
   ]
  },
  {
   "cell_type": "code",
   "execution_count": null,
   "id": "85f51e6e",
   "metadata": {},
   "outputs": [],
   "source": [
    "if pr is not None:\n",
    "    stats = pstats.Stats(pr)\n",
    "    stats.sort_stats(\"cumtime\").print_stats(30)\n",
    "    pr.dump_stats(\"train.prof\")"
   ]
  },
  {
   "cell_type": "code",
   "execution_count": null,
   "id": "8958d643",
   "metadata": {},
   "outputs": [],
   "source": [
    "replay_buffer.save(\"10games_played\")"
   ]
  },
  {
   "cell_type": "markdown",
   "id": "a6c8bdd7",
   "metadata": {
    "lines_to_next_cell": 0
   },
   "source": [
    "## Self play and training loop"
   ]
  },
  {
   "cell_type": "code",
   "execution_count": null,
   "id": "09cf7fc7",
   "metadata": {},
   "outputs": [],
   "source": [
    "# TODO: write this\n",
    "self_play_and_train_loop(\n",
    "    AlphaZeroNetwork,\n",
    "    \"AZNetwork\",\n",
    "    network_device=device,\n",
    "    game=Connect4,\n",
    "    load_replay_buffer=get_replay_buffer,\n",
    "    trainer_factory=get_trainer,\n",
    "    inferer_provider_getter=get_inferer_factory,\n",
    "    mcts_factory_getter=get_mcts_factory,\n",
    "    loop_iterations=1,\n",
    "    games_in_each_iteration=1,\n",
    "    batch_size=1,\n",
    ")"
   ]
  },
  {
   "cell_type": "markdown",
   "id": "d93d104d",
   "metadata": {
    "lines_to_next_cell": 0
   },
   "source": [
    "## Playing the Game"
   ]
  },
  {
   "cell_type": "code",
   "execution_count": 3,
   "id": "0b25e740",
   "metadata": {
    "lines_to_next_cell": 0
   },
   "outputs": [
    {
     "name": "stdout",
     "output_type": "stream",
     "text": [
      "\n"
     ]
    }
   ],
   "source": [
    "network_path = \"Model18\"\n",
    "network_device = torch.device(\"cuda\")\n",
    "network = AlphaZeroNetwork.load_az_network(network_path, network_device)\n",
    "network.eval()\n",
    "network = torch.jit.script(network)\n",
    "\n",
    "network.eval()\n",
    "\n",
    "mcts_fac = get_mcts_factory(inferer_factory)\n",
    "mcts = mcts_fac.get_mcts()\n",
    "\n",
    "\n",
    "def mcts_policy(game: Game):\n",
    "    return mcts.search(game)\n",
    "\n",
    "\n",
    "print()"
   ]
  },
  {
   "cell_type": "code",
   "execution_count": 4,
   "id": "5f955c1a",
   "metadata": {
    "scrolled": false
   },
   "outputs": [
    {
     "name": "stdout",
     "output_type": "stream",
     "text": [
      "⚪ ⚪ ⚪ ⚪ ⚪ ⚪ ⚪\n",
      "⚪ ⚪ ⚪ ⚪ ⚪ ⚪ ⚪\n",
      "⚪ ⚪ ⚪ ⚪ ⚪ ⚪ ⚪\n",
      "⚪ ⚪ ⚪ ⚪ ⚪ ⚪ ⚪\n",
      "⚪ ⚪ ⚪ ⚪ ⚪ ⚪ ⚪\n",
      "⚪ ⚪ ⚪ ⚪ ⚪ ⚪ ⚪\n",
      "―――――――――――――\n",
      "0 1 2 3 4 5 6\n",
      "Legal actions: [0, 1, 2, 3, 4, 5, 6]\n",
      "⚪ ⚪ ⚪ ⚪ ⚪ ⚪ ⚪\n",
      "⚪ ⚪ ⚪ ⚪ ⚪ ⚪ ⚪\n",
      "⚪ ⚪ ⚪ ⚪ ⚪ ⚪ ⚪\n",
      "⚪ ⚪ ⚪ ⚪ ⚪ ⚪ ⚪\n",
      "⚪ ⚪ ⚪ ⚪ ⚪ ⚪ ⚪\n",
      "⚪ ⚪ ⚪ ⚪ 🔴 🟡 ⚪\n",
      "―――――――――――――\n",
      "0 1 2 3 4 5 6\n",
      "Legal actions: [0, 1, 2, 3, 4, 5, 6]\n",
      "Invalid action, try again.\n",
      "⚪ ⚪ ⚪ ⚪ ⚪ ⚪ ⚪\n",
      "⚪ ⚪ ⚪ ⚪ ⚪ ⚪ ⚪\n",
      "⚪ ⚪ ⚪ ⚪ ⚪ ⚪ ⚪\n",
      "⚪ ⚪ ⚪ ⚪ ⚪ ⚪ ⚪\n",
      "⚪ ⚪ ⚪ ⚪ ⚪ ⚪ ⚪\n",
      "⚪ 🟡 ⚪ 🔴 🔴 🟡 ⚪\n",
      "―――――――――――――\n",
      "0 1 2 3 4 5 6\n",
      "Legal actions: [0, 1, 2, 3, 4, 5, 6]\n",
      "Invalid action, try again.\n",
      "⚪ ⚪ ⚪ ⚪ ⚪ ⚪ ⚪\n",
      "⚪ ⚪ ⚪ ⚪ ⚪ ⚪ ⚪\n",
      "⚪ ⚪ ⚪ ⚪ ⚪ ⚪ ⚪\n",
      "⚪ ⚪ ⚪ ⚪ ⚪ ⚪ ⚪\n",
      "⚪ ⚪ ⚪ ⚪ ⚪ 🟡 ⚪\n",
      "⚪ 🟡 🔴 🔴 🔴 🟡 ⚪\n",
      "―――――――――――――\n",
      "0 1 2 3 4 5 6\n",
      "Legal actions: [0, 1, 2, 3, 4, 5, 6]\n",
      "⚪ ⚪ ⚪ ⚪ ⚪ ⚪ ⚪\n",
      "⚪ ⚪ ⚪ ⚪ ⚪ ⚪ ⚪\n",
      "⚪ ⚪ ⚪ ⚪ ⚪ ⚪ ⚪\n",
      "⚪ ⚪ ⚪ ⚪ ⚪ ⚪ ⚪\n",
      "⚪ ⚪ ⚪ 🟡 🔴 🟡 ⚪\n",
      "⚪ 🟡 🔴 🔴 🔴 🟡 ⚪\n",
      "―――――――――――――\n",
      "0 1 2 3 4 5 6\n",
      "Legal actions: [0, 1, 2, 3, 4, 5, 6]\n",
      "⚪ ⚪ ⚪ ⚪ ⚪ ⚪ ⚪\n",
      "⚪ ⚪ ⚪ ⚪ ⚪ ⚪ ⚪\n",
      "⚪ ⚪ ⚪ ⚪ ⚪ ⚪ ⚪\n",
      "⚪ ⚪ ⚪ 🟡 ⚪ ⚪ ⚪\n",
      "⚪ ⚪ 🔴 🟡 🔴 🟡 ⚪\n",
      "⚪ 🟡 🔴 🔴 🔴 🟡 ⚪\n",
      "―――――――――――――\n",
      "0 1 2 3 4 5 6\n",
      "Legal actions: [0, 1, 2, 3, 4, 5, 6]\n",
      "Invalid action, try again.\n",
      "⚪ ⚪ ⚪ ⚪ ⚪ ⚪ ⚪\n",
      "⚪ ⚪ ⚪ ⚪ ⚪ ⚪ ⚪\n",
      "⚪ ⚪ 🟡 ⚪ ⚪ ⚪ ⚪\n",
      "⚪ ⚪ 🔴 🟡 ⚪ ⚪ ⚪\n",
      "⚪ ⚪ 🔴 🟡 🔴 🟡 ⚪\n",
      "⚪ 🟡 🔴 🔴 🔴 🟡 ⚪\n",
      "―――――――――――――\n",
      "0 1 2 3 4 5 6\n",
      "Legal actions: [0, 1, 2, 3, 4, 5, 6]\n",
      "Invalid action, try again.\n",
      "⚪ ⚪ ⚪ ⚪ ⚪ ⚪ ⚪\n",
      "⚪ ⚪ ⚪ ⚪ ⚪ ⚪ ⚪\n",
      "⚪ ⚪ 🟡 ⚪ 🟡 ⚪ ⚪\n",
      "⚪ ⚪ 🔴 🟡 🔴 ⚪ ⚪\n",
      "⚪ ⚪ 🔴 🟡 🔴 🟡 ⚪\n",
      "⚪ 🟡 🔴 🔴 🔴 🟡 ⚪\n",
      "―――――――――――――\n",
      "0 1 2 3 4 5 6\n",
      "Legal actions: [0, 1, 2, 3, 4, 5, 6]\n",
      "Invalid action, try again.\n",
      "⚪ ⚪ ⚪ ⚪ ⚪ ⚪ ⚪\n",
      "⚪ ⚪ 🟡 ⚪ ⚪ ⚪ ⚪\n",
      "⚪ ⚪ 🟡 ⚪ 🟡 ⚪ ⚪\n",
      "⚪ ⚪ 🔴 🟡 🔴 🔴 ⚪\n",
      "⚪ ⚪ 🔴 🟡 🔴 🟡 ⚪\n",
      "⚪ 🟡 🔴 🔴 🔴 🟡 ⚪\n",
      "―――――――――――――\n",
      "0 1 2 3 4 5 6\n",
      "Legal actions: [0, 1, 2, 3, 4, 5, 6]\n",
      "⚪ ⚪ ⚪ ⚪ ⚪ ⚪ ⚪\n",
      "⚪ ⚪ 🟡 ⚪ 🟡 ⚪ ⚪\n",
      "⚪ ⚪ 🟡 ⚪ 🟡 ⚪ ⚪\n",
      "⚪ ⚪ 🔴 🟡 🔴 🔴 ⚪\n",
      "⚪ ⚪ 🔴 🟡 🔴 🟡 ⚪\n",
      "⚪ 🟡 🔴 🔴 🔴 🟡 🔴\n",
      "―――――――――――――\n",
      "0 1 2 3 4 5 6\n",
      "Legal actions: [0, 1, 2, 3, 4, 5, 6]\n",
      "Invalid action, try again.\n",
      "⚪ ⚪ ⚪ ⚪ 🟡 ⚪ ⚪\n",
      "⚪ ⚪ 🟡 ⚪ 🟡 ⚪ ⚪\n",
      "⚪ ⚪ 🟡 ⚪ 🟡 ⚪ ⚪\n",
      "⚪ ⚪ 🔴 🟡 🔴 🔴 ⚪\n",
      "⚪ ⚪ 🔴 🟡 🔴 🟡 🔴\n",
      "⚪ 🟡 🔴 🔴 🔴 🟡 🔴\n",
      "―――――――――――――\n",
      "0 1 2 3 4 5 6\n",
      "Legal actions: [0, 1, 2, 3, 5, 6]\n",
      "Invalid action, try again.\n",
      "⚪ ⚪ ⚪ ⚪ 🟡 ⚪ ⚪\n",
      "⚪ ⚪ 🟡 ⚪ 🟡 ⚪ ⚪\n",
      "⚪ ⚪ 🟡 ⚪ 🟡 ⚪ 🟡\n",
      "⚪ ⚪ 🔴 🟡 🔴 🔴 🔴\n",
      "⚪ ⚪ 🔴 🟡 🔴 🟡 🔴\n",
      "⚪ 🟡 🔴 🔴 🔴 🟡 🔴\n",
      "―――――――――――――\n",
      "0 1 2 3 4 5 6\n",
      "Legal actions: [0, 1, 2, 3, 5, 6]\n",
      "Invalid action, try again.\n",
      "⚪ ⚪ ⚪ ⚪ 🟡 ⚪ ⚪\n",
      "⚪ ⚪ 🟡 ⚪ 🟡 🟡 ⚪\n",
      "⚪ ⚪ 🟡 ⚪ 🟡 🔴 🟡\n",
      "⚪ ⚪ 🔴 🟡 🔴 🔴 🔴\n",
      "⚪ ⚪ 🔴 🟡 🔴 🟡 🔴\n",
      "⚪ 🟡 🔴 🔴 🔴 🟡 🔴\n",
      "―――――――――――――\n",
      "0 1 2 3 4 5 6\n",
      "Legal actions: [0, 1, 2, 3, 5, 6]\n",
      "⚪ ⚪ ⚪ ⚪ 🟡 🟡 ⚪\n",
      "⚪ ⚪ 🟡 ⚪ 🟡 🟡 ⚪\n",
      "⚪ ⚪ 🟡 🔴 🟡 🔴 🟡\n",
      "⚪ ⚪ 🔴 🟡 🔴 🔴 🔴\n",
      "⚪ ⚪ 🔴 🟡 🔴 🟡 🔴\n",
      "⚪ 🟡 🔴 🔴 🔴 🟡 🔴\n",
      "―――――――――――――\n",
      "0 1 2 3 4 5 6\n",
      "Legal actions: [0, 1, 2, 3, 6]\n",
      "⚪ ⚪ ⚪ ⚪ 🟡 🟡 ⚪\n",
      "⚪ ⚪ 🟡 ⚪ 🟡 🟡 ⚪\n",
      "⚪ ⚪ 🟡 🔴 🟡 🔴 🟡\n",
      "⚪ ⚪ 🔴 🟡 🔴 🔴 🔴\n",
      "⚪ 🔴 🔴 🟡 🔴 🟡 🔴\n",
      "🟡 🟡 🔴 🔴 🔴 🟡 🔴\n",
      "―――――――――――――\n",
      "0 1 2 3 4 5 6\n",
      "Legal actions: [0, 1, 2, 3, 6]\n",
      "⚪ ⚪ ⚪ ⚪ 🟡 🟡 ⚪\n",
      "⚪ ⚪ 🟡 ⚪ 🟡 🟡 ⚪\n",
      "⚪ ⚪ 🟡 🔴 🟡 🔴 🟡\n",
      "⚪ 🔴 🔴 🟡 🔴 🔴 🔴\n",
      "🟡 🔴 🔴 🟡 🔴 🟡 🔴\n",
      "🟡 🟡 🔴 🔴 🔴 🟡 🔴\n",
      "―――――――――――――\n",
      "0 1 2 3 4 5 6\n",
      "Legal actions: [0, 1, 2, 3, 6]\n",
      "Invalid action, try again.\n",
      "⚪ ⚪ ⚪ ⚪ 🟡 🟡 ⚪\n",
      "⚪ ⚪ 🟡 ⚪ 🟡 🟡 ⚪\n",
      "🟡 ⚪ 🟡 🔴 🟡 🔴 🟡\n",
      "🔴 🔴 🔴 🟡 🔴 🔴 🔴\n",
      "🟡 🔴 🔴 🟡 🔴 🟡 🔴\n",
      "🟡 🟡 🔴 🔴 🔴 🟡 🔴\n",
      "―――――――――――――\n",
      "0 1 2 3 4 5 6\n",
      "Legal actions: [0, 1, 2, 3, 6]\n",
      "Invalid action, try again.\n",
      "⚪ ⚪ 🔴 ⚪ 🟡 🟡 ⚪\n",
      "⚪ ⚪ 🟡 ⚪ 🟡 🟡 ⚪\n",
      "🟡 🟡 🟡 🔴 🟡 🔴 🟡\n",
      "🔴 🔴 🔴 🟡 🔴 🔴 🔴\n",
      "🟡 🔴 🔴 🟡 🔴 🟡 🔴\n",
      "🟡 🟡 🔴 🔴 🔴 🟡 🔴\n",
      "―――――――――――――\n",
      "0 1 2 3 4 5 6\n",
      "Legal actions: [0, 1, 3, 6]\n",
      "Invalid action, try again.\n",
      "⚪ ⚪ 🔴 ⚪ 🟡 🟡 ⚪\n",
      "🟡 🔴 🟡 ⚪ 🟡 🟡 ⚪\n",
      "🟡 🟡 🟡 🔴 🟡 🔴 🟡\n",
      "🔴 🔴 🔴 🟡 🔴 🔴 🔴\n",
      "🟡 🔴 🔴 🟡 🔴 🟡 🔴\n",
      "🟡 🟡 🔴 🔴 🔴 🟡 🔴\n",
      "―――――――――――――\n",
      "0 1 2 3 4 5 6\n",
      "Legal actions: [0, 1, 3, 6]\n",
      "Invalid action, try again.\n",
      "🔴 🟡 🔴 ⚪ 🟡 🟡 ⚪\n",
      "🟡 🔴 🟡 ⚪ 🟡 🟡 ⚪\n",
      "🟡 🟡 🟡 🔴 🟡 🔴 🟡\n",
      "🔴 🔴 🔴 🟡 🔴 🔴 🔴\n",
      "🟡 🔴 🔴 🟡 🔴 🟡 🔴\n",
      "🟡 🟡 🔴 🔴 🔴 🟡 🔴\n",
      "―――――――――――――\n",
      "0 1 2 3 4 5 6\n",
      "Legal actions: [3, 6]\n",
      "🔴 🟡 🔴 ⚪ 🟡 🟡 ⚪\n",
      "🟡 🔴 🟡 🟡 🟡 🟡 🔴\n",
      "🟡 🟡 🟡 🔴 🟡 🔴 🟡\n",
      "🔴 🔴 🔴 🟡 🔴 🔴 🔴\n",
      "🟡 🔴 🔴 🟡 🔴 🟡 🔴\n",
      "🟡 🟡 🔴 🔴 🔴 🟡 🔴\n",
      "―――――――――――――\n",
      "0 1 2 3 4 5 6\n",
      "Game result: AI won\n"
     ]
    }
   ],
   "source": [
    "final_reward = playing.play_game(game, mcts_policy_fn=mcts_policy)\n",
    "print(f\"Game result: {'You won' if final_reward == 1 else 'AI won'}\")"
   ]
  },
  {
   "cell_type": "code",
   "execution_count": null,
   "id": "6bb3f213",
   "metadata": {},
   "outputs": [],
   "source": [
    "final_reward = playing.play_game(game, mcts_policy_fn=mcts_policy)\n",
    "print(f\"Game result: {'You won' if final_reward == 1 else 'AI won'}\")"
   ]
  },
  {
   "cell_type": "code",
   "execution_count": null,
   "id": "4486734e",
   "metadata": {},
   "outputs": [],
   "source": []
  }
 ],
 "metadata": {
  "jupytext": {
   "cell_metadata_filter": "-all",
   "formats": "ipynb,py:percent"
  },
  "kernelspec": {
   "display_name": ".env",
   "language": "python",
   "name": "python3"
  },
  "language_info": {
   "codemirror_mode": {
    "name": "ipython",
    "version": 3
   },
   "file_extension": ".py",
   "mimetype": "text/x-python",
   "name": "python",
   "nbconvert_exporter": "python",
   "pygments_lexer": "ipython3",
   "version": "3.13.2"
  }
 },
 "nbformat": 4,
 "nbformat_minor": 5
}
