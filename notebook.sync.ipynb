{
 "cells": [
  {
   "cell_type": "code",
   "execution_count": 30,
   "id": "f6ebaeb3",
   "metadata": {},
   "outputs": [
    {
     "data": {
      "application/javascript": [
       "IPython.notebook.set_autosave_interval(0)"
      ]
     },
     "metadata": {},
     "output_type": "display_data"
    },
    {
     "name": "stdout",
     "output_type": "stream",
     "text": [
      "Autosave disabled\n"
     ]
    }
   ],
   "source": [
    "%autosave 0"
   ]
  },
  {
   "cell_type": "code",
   "execution_count": 31,
   "id": "339aa87d",
   "metadata": {},
   "outputs": [
    {
     "name": "stdout",
     "output_type": "stream",
     "text": [
      "The autoreload extension is already loaded. To reload it, use:\n",
      "  %reload_ext autoreload\n"
     ]
    }
   ],
   "source": [
    "%load_ext autoreload\n",
    "%autoreload 2"
   ]
  },
  {
   "cell_type": "code",
   "execution_count": 40,
   "id": "db2c0013",
   "metadata": {},
   "outputs": [],
   "source": [
    "from typing import Optional\n",
    "from games.connect4 import Connect4\n",
    "from games.game import Game\n",
    "from injectors import get_mcts, get_network, get_replay_buffer, get_trainer\n",
    "from train import self_play\n",
    "import playing"
   ]
  },
  {
   "cell_type": "code",
   "execution_count": 19,
   "id": "27f9e992",
   "metadata": {},
   "outputs": [],
   "source": [
    "import cProfile\n",
    "import pstats\n",
    "\n",
    "profiling = True"
   ]
  },
  {
   "cell_type": "code",
   "execution_count": 27,
   "id": "a06f427f",
   "metadata": {},
   "outputs": [],
   "source": [
    "# device = \"cpu\"\n",
    "device = \"cuda\"\n",
    "\n",
    "network = get_network(Connect4)\n",
    "\n",
    "replay_buffer = get_replay_buffer(Connect4)\n",
    "mcts = get_mcts(network)\n",
    "\n",
    "trainer = get_trainer(\n",
    "    device,\n",
    "    network,\n",
    "    replay_buffer,\n",
    ")\n",
    "\n",
    "game = Connect4()\n",
    "\n",
    "\n",
    "def mcts_policy(game: Game):\n",
    "    return mcts.search(game)"
   ]
  },
  {
   "cell_type": "code",
   "execution_count": 15,
   "id": "9135ab80",
   "metadata": {},
   "outputs": [
    {
     "data": {
      "application/vnd.jupyter.widget-view+json": {
       "model_id": "42dff7c5e7884d1d9ff1be853cd92741",
       "version_major": 2,
       "version_minor": 0
      },
      "text/plain": [
       "Games played:   0%|          | 0/1 [00:00<?, ?it/s]"
      ]
     },
     "metadata": {},
     "output_type": "display_data"
    },
    {
     "name": "stdout",
     "output_type": "stream",
     "text": [
      "CPU times: user 18.7 s, sys: 971 μs, total: 18.7 s\n",
      "Wall time: 18.8 s\n"
     ]
    }
   ],
   "source": [
    "%%time\n",
    "pr: Optional[cProfile.Profile] = None\n",
    "if profiling:\n",
    "    with cProfile.Profile() as pr:\n",
    "        self_play(Connect4, mcts, replay_buffer, num_games=10)\n",
    "else:\n",
    "    self_play(Connect4, mcts, replay_buffer, num_games=1)"
   ]
  },
  {
   "cell_type": "code",
   "execution_count": 8,
   "id": "8958d643",
   "metadata": {},
   "outputs": [],
   "source": [
    "# replay_buffer.save(\"10games_played\")"
   ]
  },
  {
   "cell_type": "code",
   "execution_count": 21,
   "id": "09cf7fc7",
   "metadata": {},
   "outputs": [],
   "source": [
    "replay_buffer.load(\"10games_played.npz\")"
   ]
  },
  {
   "cell_type": "code",
   "execution_count": 22,
   "id": "cb5feb6e",
   "metadata": {
    "scrolled": true
   },
   "outputs": [],
   "source": [
    "if pr is not None:\n",
    "    stats = pstats.Stats(pr)\n",
    "    stats.sort_stats(\"cumtime\").print_stats(30)\n",
    "    pr.dump_stats(\"self_play.prof\")"
   ]
  },
  {
   "cell_type": "code",
   "execution_count": 26,
   "id": "090ca86a",
   "metadata": {
    "lines_to_next_cell": 0
   },
   "outputs": [
    {
     "data": {
      "application/vnd.jupyter.widget-view+json": {
       "model_id": "aa9ea44fb78f45889d07dcaabb0172cf",
       "version_major": 2,
       "version_minor": 0
      },
      "text/plain": [
       "  0%|          | 0/1000 [00:00<?, ?it/s]"
      ]
     },
     "metadata": {},
     "output_type": "display_data"
    }
   ],
   "source": [
    "trainer.train(batch_size=1)"
   ]
  },
  {
   "cell_type": "code",
   "execution_count": 39,
   "id": "5f955c1a",
   "metadata": {
    "scrolled": false
   },
   "outputs": [
    {
     "name": "stdout",
     "output_type": "stream",
     "text": [
      "0 0 0 0 0 0 0\n",
      "0 0 0 0 0 0 0\n",
      "0 0 0 0 0 0 0\n",
      "0 0 0 0 0 0 0\n",
      "0 0 0 0 0 0 0\n",
      "0 0 0 0 0 0 0\n",
      "-------\n",
      "0 1 2 3 4 5 6\n",
      "Legal actions: [0, 1, 2, 3, 4, 5, 6]\n",
      "Enter your action: 1\n",
      "0 0 0 0 0 0 0\n",
      "0 0 0 0 0 0 0\n",
      "0 0 0 0 0 0 0\n",
      "0 0 0 0 0 0 0\n",
      "0 0 0 0 0 0 0\n",
      "0 1 -1 0 0 0 0\n",
      "-------\n",
      "0 1 2 3 4 5 6\n",
      "Legal actions: [0, 1, 2, 3, 4, 5, 6]\n",
      "Enter your action: 1\n",
      "0 0 0 0 0 0 0\n",
      "0 0 0 0 0 0 0\n",
      "0 0 0 0 0 0 0\n",
      "0 0 0 0 0 0 0\n",
      "0 1 0 0 0 0 0\n",
      "0 1 -1 0 0 -1 0\n",
      "-------\n",
      "0 1 2 3 4 5 6\n",
      "Legal actions: [0, 1, 2, 3, 4, 5, 6]\n",
      "Enter your action: 1\n",
      "0 0 0 0 0 0 0\n",
      "0 0 0 0 0 0 0\n",
      "0 0 0 0 0 0 0\n",
      "0 1 0 0 0 0 0\n",
      "0 1 0 0 0 0 0\n",
      "0 1 -1 0 0 -1 -1\n",
      "-------\n",
      "0 1 2 3 4 5 6\n",
      "Legal actions: [0, 1, 2, 3, 4, 5, 6]\n",
      "Enter your action: 1\n",
      "0 0 0 0 0 0 0\n",
      "0 0 0 0 0 0 0\n",
      "0 1 0 0 0 0 0\n",
      "0 1 0 0 0 0 0\n",
      "0 1 0 0 0 0 0\n",
      "0 1 -1 0 0 -1 -1\n",
      "-------\n",
      "0 1 2 3 4 5 6\n",
      "Game result: You won\n"
     ]
    }
   ],
   "source": [
    "final_reward = playing.play_game(game, mcts_policy_fn=mcts_policy)\n",
    "print(f\"Game result: {'You won' if final_reward == 1 else 'AI won'}\")"
   ]
  },
  {
   "cell_type": "code",
   "execution_count": null,
   "id": "6bb3f213",
   "metadata": {},
   "outputs": [
    {
     "name": "stdout",
     "output_type": "stream",
     "text": [
      "⚪ ⚪ ⚪ ⚪ ⚪ ⚪ ⚪\n",
      "⚪ ⚪ ⚪ ⚪ ⚪ ⚪ ⚪\n",
      "⚪ ⚪ ⚪ ⚪ ⚪ ⚪ ⚪\n",
      "⚪ ⚪ ⚪ ⚪ ⚪ ⚪ ⚪\n",
      "⚪ ⚪ ⚪ ⚪ ⚪ ⚪ ⚪\n",
      "⚪ ⚪ ⚪ ⚪ ⚪ ⚪ ⚪\n",
      "―――――――――――――\n",
      "0 1 2 3 4 5 6\n",
      "Legal actions: [0, 1, 2, 3, 4, 5, 6]\n",
      "Enter your action: 1\n",
      "⚪ ⚪ ⚪ ⚪ ⚪ ⚪ ⚪\n",
      "⚪ ⚪ ⚪ ⚪ ⚪ ⚪ ⚪\n",
      "⚪ ⚪ ⚪ ⚪ ⚪ ⚪ ⚪\n",
      "⚪ ⚪ ⚪ ⚪ ⚪ ⚪ ⚪\n",
      "⚪ ⚪ ⚪ ⚪ ⚪ ⚪ ⚪\n",
      "⚪ 🔴 ⚪ ⚪ 🟡 ⚪ ⚪\n",
      "―――――――――――――\n",
      "0 1 2 3 4 5 6\n",
      "Legal actions: [0, 1, 2, 3, 4, 5, 6]\n",
      "Enter your action: 2\n",
      "⚪ ⚪ ⚪ ⚪ ⚪ ⚪ ⚪\n",
      "⚪ ⚪ ⚪ ⚪ ⚪ ⚪ ⚪\n",
      "⚪ ⚪ ⚪ ⚪ ⚪ ⚪ ⚪\n",
      "⚪ ⚪ ⚪ ⚪ ⚪ ⚪ ⚪\n",
      "⚪ 🟡 ⚪ ⚪ ⚪ ⚪ ⚪\n",
      "⚪ 🔴 🔴 ⚪ 🟡 ⚪ ⚪\n",
      "―――――――――――――\n",
      "0 1 2 3 4 5 6\n",
      "Legal actions: [0, 1, 2, 3, 4, 5, 6]\n",
      "Enter your action: 3\n",
      "⚪ ⚪ ⚪ ⚪ ⚪ ⚪ ⚪\n",
      "⚪ ⚪ ⚪ ⚪ ⚪ ⚪ ⚪\n",
      "⚪ ⚪ ⚪ ⚪ ⚪ ⚪ ⚪\n",
      "⚪ ⚪ ⚪ ⚪ ⚪ ⚪ ⚪\n",
      "⚪ 🟡 ⚪ ⚪ ⚪ ⚪ ⚪\n",
      "🟡 🔴 🔴 🔴 🟡 ⚪ ⚪\n",
      "―――――――――――――\n",
      "0 1 2 3 4 5 6\n",
      "Legal actions: [0, 1, 2, 3, 4, 5, 6]\n"
     ]
    }
   ],
   "source": [
    "final_reward = playing.play_game(game, mcts_policy_fn=mcts_policy)\n",
    "print(f\"Game result: {'You won' if final_reward == 1 else 'AI won'}\")"
   ]
  },
  {
   "cell_type": "code",
   "execution_count": null,
   "id": "4486734e",
   "metadata": {},
   "outputs": [],
   "source": []
  }
 ],
 "metadata": {
  "jupytext": {
   "cell_metadata_filter": "-all",
   "formats": "ipynb,py:percent"
  },
  "kernelspec": {
   "display_name": "Python 3 (ipykernel)",
   "language": "python",
   "name": "python3"
  },
  "language_info": {
   "codemirror_mode": {
    "name": "ipython",
    "version": 3
   },
   "file_extension": ".py",
   "mimetype": "text/x-python",
   "name": "python",
   "nbconvert_exporter": "python",
   "pygments_lexer": "ipython3",
   "version": "3.12.9"
  }
 },
 "nbformat": 4,
 "nbformat_minor": 5
}
