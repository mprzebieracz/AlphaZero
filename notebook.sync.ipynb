{
 "cells": [
  {
   "cell_type": "code",
   "execution_count": 1,
   "id": "f6ebaeb3",
   "metadata": {},
   "outputs": [
    {
     "data": {
      "application/javascript": [
       "IPython.notebook.set_autosave_interval(0)"
      ]
     },
     "metadata": {},
     "output_type": "display_data"
    },
    {
     "name": "stdout",
     "output_type": "stream",
     "text": [
      "Autosave disabled\n"
     ]
    }
   ],
   "source": [
    "%autosave 0"
   ]
  },
  {
   "cell_type": "code",
   "execution_count": 2,
   "id": "339aa87d",
   "metadata": {},
   "outputs": [],
   "source": [
    "%load_ext autoreload\n",
    "%autoreload 2\n",
    "%aimport train\n",
    "%aimport mcts"
   ]
  },
  {
   "cell_type": "code",
   "execution_count": 3,
   "id": "db2c0013",
   "metadata": {},
   "outputs": [],
   "source": [
    "from typing import Optional\n",
    "from games.connect4 import Connect4\n",
    "from games.game import Game\n",
    "from injectors import get_mcts, get_network, get_replay_buffer, get_trainer\n",
    "from train import self_play\n",
    "import playing"
   ]
  },
  {
   "cell_type": "code",
   "execution_count": 4,
   "id": "27f9e992",
   "metadata": {},
   "outputs": [],
   "source": [
    "import cProfile\n",
    "import pstats\n",
    "\n",
    "profiling = True"
   ]
  },
  {
   "cell_type": "code",
   "execution_count": 5,
   "id": "a06f427f",
   "metadata": {},
   "outputs": [],
   "source": [
    "# device = \"cpu\"\n",
    "device = \"cuda\"\n",
    "\n",
    "network = get_network(Connect4)\n",
    "\n",
    "replay_buffer = get_replay_buffer(Connect4)\n",
    "mcts = get_mcts(network)\n",
    "\n",
    "trainer = get_trainer(\n",
    "    device,\n",
    "    network,\n",
    "    replay_buffer,\n",
    ")\n",
    "\n",
    "game = Connect4()\n",
    "\n",
    "\n",
    "def mcts_policy(game: Game):\n",
    "    return mcts.search(game)"
   ]
  },
  {
   "cell_type": "code",
   "execution_count": 6,
   "id": "9135ab80",
   "metadata": {},
   "outputs": [
    {
     "data": {
      "application/vnd.jupyter.widget-view+json": {
       "model_id": "24c0fa7ed94f4d539d8aaee231f7bfc9",
       "version_major": 2,
       "version_minor": 0
      },
      "text/plain": [
       "Games played:   0%|          | 0/1 [00:00<?, ?it/s]"
      ]
     },
     "metadata": {},
     "output_type": "display_data"
    },
    {
     "name": "stdout",
     "output_type": "stream",
     "text": [
      "CPU times: user 11.2 s, sys: 101 ms, total: 11.3 s\n",
      "Wall time: 11.5 s\n"
     ]
    }
   ],
   "source": [
    "%%time\n",
    "pr: Optional[cProfile.Profile] = None\n",
    "if profiling:\n",
    "    with cProfile.Profile() as pr:\n",
    "        self_play(Connect4, mcts, replay_buffer, num_games=1)\n",
    "else:\n",
    "    self_play(Connect4, mcts, replay_buffer, num_games=1)"
   ]
  },
  {
   "cell_type": "code",
   "execution_count": 7,
   "id": "cb5feb6e",
   "metadata": {},
   "outputs": [
    {
     "name": "stdout",
     "output_type": "stream",
     "text": [
      "         8228473 function calls (8211359 primitive calls) in 11.028 seconds\n",
      "\n",
      "   Ordered by: cumulative time\n",
      "   List reduced from 698 to 30 due to restriction <30>\n",
      "\n",
      "   ncalls  tottime  percall  cumtime  percall filename:lineno(function)\n",
      "     6551    0.014    0.000    5.600    0.001 /home/piotrek/miniconda3/envs/mpum-big-project/lib/python3.12/site-packages/torch/nn/modules/module.py:1732(_wrapped_call_impl)\n",
      "     6551    5.578    0.001    5.585    0.001 /home/piotrek/miniconda3/envs/mpum-big-project/lib/python3.12/site-packages/torch/nn/modules/module.py:1740(_call_impl)\n",
      "     8812    0.016    0.000    2.837    0.000 /home/piotrek/Studia/2-rok/4-sem/MPUM/Project/AlphaZero/games/connect4.py:85(is_terminal)\n",
      "     8800    0.004    0.000    2.835    0.000 /home/piotrek/Studia/2-rok/4-sem/MPUM/Project/AlphaZero/mcts.py:120(is_terminal)\n",
      "    11073    0.004    0.000    2.799    0.000 /home/piotrek/Studia/2-rok/4-sem/MPUM/Project/AlphaZero/games/connect4.py:80(reward)\n",
      "     6629    1.041    0.000    2.795    0.000 /home/piotrek/Studia/2-rok/4-sem/MPUM/Project/AlphaZero/games/connect4.py:41(_check_winner)\n",
      "   913783    0.312    0.000    1.631    0.000 /home/piotrek/miniconda3/envs/mpum-big-project/lib/python3.12/site-packages/numpy/_core/fromnumeric.py:2513(all)\n",
      "     23/6    0.010    0.000    1.503    0.251 /home/piotrek/Studia/2-rok/4-sem/MPUM/Project/AlphaZero/mcts.py:219(_get_policy_and_value)\n",
      "   913783    0.487    0.000    1.319    0.000 /home/piotrek/miniconda3/envs/mpum-big-project/lib/python3.12/site-packages/numpy/_core/fromnumeric.py:89(_wrapreduction_any_all)\n",
      "   913805    0.738    0.000    0.738    0.000 {method 'reduce' of 'numpy.ufunc' objects}\n",
      "    26670    0.021    0.000    0.623    0.000 /home/piotrek/Studia/2-rok/4-sem/MPUM/Project/AlphaZero/mcts.py:124(select_child)\n",
      "    26716    0.057    0.000    0.595    0.000 {built-in method builtins.max}\n",
      "   186690    0.039    0.000    0.538    0.000 /home/piotrek/Studia/2-rok/4-sem/MPUM/Project/AlphaZero/mcts.py:138(<lambda>)\n",
      "     6551    0.326    0.000    0.534    0.000 /home/piotrek/Studia/2-rok/4-sem/MPUM/Project/AlphaZero/mcts.py:214(legal_actions_to_tensor)\n",
      "   186690    0.036    0.000    0.500    0.000 /home/piotrek/Studia/2-rok/4-sem/MPUM/Project/AlphaZero/mcts.py:87(UCB)\n",
      "   186690    0.070    0.000    0.464    0.000 /home/piotrek/Studia/2-rok/4-sem/MPUM/Project/AlphaZero/mcts.py:90(calc_ucb)\n",
      "     6551    0.112    0.000    0.442    0.000 /home/piotrek/Studia/2-rok/4-sem/MPUM/Project/AlphaZero/mcts.py:141(expand)\n",
      "   186690    0.278    0.000    0.317    0.000 /home/piotrek/Studia/2-rok/4-sem/MPUM/Project/AlphaZero/mcts.py:93(U)\n",
      "     6629    0.009    0.000    0.270    0.000 {built-in method builtins.next}\n",
      "    13102    0.029    0.000    0.261    0.000 /home/piotrek/miniconda3/envs/mpum-big-project/lib/python3.12/site-packages/torch/nn/modules/module.py:2611(parameters)\n",
      "    13102    0.023    0.000    0.236    0.000 /home/piotrek/miniconda3/envs/mpum-big-project/lib/python3.12/site-packages/torch/nn/modules/module.py:2661(<lambda>)\n",
      "    13102    0.023    0.000    0.222    0.000 /home/piotrek/miniconda3/envs/mpum-big-project/lib/python3.12/site-packages/torch/nn/modules/module.py:2591(_named_members)\n",
      "    13102    0.005    0.000    0.220    0.000 /home/piotrek/miniconda3/envs/mpum-big-project/lib/python3.12/site-packages/torch/nn/modules/module.py:2636(named_parameters)\n",
      "    45865    0.047    0.000    0.155    0.000 /home/piotrek/Studia/2-rok/4-sem/MPUM/Project/AlphaZero/games/connect4.py:22(clone)\n",
      "     6562    0.034    0.000    0.140    0.000 /home/piotrek/Studia/2-rok/4-sem/MPUM/Project/AlphaZero/games/connect4.py:33(get_canonical_state)\n",
      "32755/26204    0.030    0.000    0.127    0.000 /home/piotrek/miniconda3/envs/mpum-big-project/lib/python3.12/site-packages/torch/nn/modules/module.py:2778(named_modules)\n",
      "     6551    0.061    0.000    0.125    0.000 /home/piotrek/Studia/2-rok/4-sem/MPUM/Project/AlphaZero/games/connect4.py:103(get_legal_actions)\n",
      "   203095    0.124    0.000    0.124    0.000 {built-in method numpy.array}\n",
      "   947551    0.099    0.000    0.099    0.000 {method 'items' of 'dict' objects}\n",
      "     6551    0.099    0.000    0.099    0.000 {method 'to' of 'torch._C.TensorBase' objects}\n",
      "\n",
      "\n"
     ]
    }
   ],
   "source": [
    "if pr is not None:\n",
    "    stats = pstats.Stats(pr)\n",
    "    stats.sort_stats(\"cumtime\").print_stats(30)\n",
    "    pr.dump_stats(\"self_play.prof\")"
   ]
  },
  {
   "cell_type": "code",
   "execution_count": null,
   "id": "090ca86a",
   "metadata": {
    "lines_to_next_cell": 0
   },
   "outputs": [],
   "source": [
    "trainer.train(batch_size=1)"
   ]
  },
  {
   "cell_type": "code",
   "execution_count": null,
   "id": "a8d32cf6",
   "metadata": {
    "lines_to_next_cell": 0
   },
   "outputs": [],
   "source": [
    "playing.play_game(game, mcts_policy_fn=mcts_policy)"
   ]
  },
  {
   "cell_type": "code",
   "execution_count": null,
   "id": "3bfe903b",
   "metadata": {},
   "outputs": [],
   "source": [
    "playing.play_game(game, mcts_policy_fn=mcts_policy)"
   ]
  }
 ],
 "metadata": {
  "jupytext": {
   "cell_metadata_filter": "-all",
   "formats": "ipynb,py:percent"
  },
  "kernelspec": {
   "display_name": "Python 3 (ipykernel)",
   "language": "python",
   "name": "python3"
  },
  "language_info": {
   "codemirror_mode": {
    "name": "ipython",
    "version": 3
   },
   "file_extension": ".py",
   "mimetype": "text/x-python",
   "name": "python",
   "nbconvert_exporter": "python",
   "pygments_lexer": "ipython3",
   "version": "3.12.9"
  }
 },
 "nbformat": 4,
 "nbformat_minor": 5
}
